{
 "cells": [
  {
   "cell_type": "markdown",
   "metadata": {},
   "source": [
    "# Battle of Neighborhoods in Doha, Qatar\n",
    "##### By\n",
    "### Muhammad Jehanzaib Rao\n",
    "##### IN Solution Architect, Ooredoo, Qatar\n",
    "Contact: +974 50715888"
   ]
  },
  {
   "cell_type": "markdown",
   "metadata": {},
   "source": [
    "## Table of Contents\n",
    "\n",
    "<div class=\"alert alert-block alert-info\" style=\"margin-top: 20px\">\n",
    "\n",
    "<font size = 3>\n",
    "\n",
    "1. <a href=\"#item1\">Introduction/Business Problem</a>\n",
    "\n",
    "2. <a href=\"#item2\">Data</a>\n",
    "\n",
    "3. <a href=\"#item3\">Methodology</a>\n",
    "\n",
    "4. <a href=\"#item4\">Results</a>\n",
    "\n",
    "5. <a href=\"#item5\">Discussion</a>    \n",
    "\n",
    "6. <a href=\"#item5\">Conclusion</a>\n",
    "</font>\n",
    "</div>"
   ]
  },
  {
   "cell_type": "markdown",
   "metadata": {},
   "source": [
    "## Introduction/Business Problem\n",
    "\n",
    "Currently, I am living in _Al Dafna_ Area in Doha, Qatar. I had chosen this place because my office(**Ooredoo HQ1**) was very close to my house. There are Cafes, Restaurants, Gym and Park near my house and I am very comfortable as it fits my criterion. \n",
    "\n",
    "Now, my employer has located my department to another office(**Ooredoo HQ2**) which is near _old Doha Air-Port_. There are severe traffic issues in the morning and evening and a lot of my time is being wasted due to traffic jams while going to office or while coming back to home.\n",
    "\n",
    "I want to move closer to my new office but I want my new house to be in similar area as _Al Dafna_. I am comparing neighboroods closer to my new office with _Al Dafna_ and trying to find out which area is more suitable for me."
   ]
  },
  {
   "cell_type": "markdown",
   "metadata": {},
   "source": [
    "## Data section\n",
    "\n",
    "I found a wikipedia link that has details such as Name, Covered Area and Population of almost all Neighborhoods of Doha. Here is the link;\n",
    "\n",
    "[List of Neighborhoods in Doha](https://en.wikipedia.org/wiki/List_of_communities_in_Doha \"List of Neighborhoods in Doha\")\n",
    "\n",
    "Webscraping was done by **BeautifulSoup** and and then table was converted to Pandas DataFrame. \n",
    "\n",
    "I have used **_GeoCoder_** Library of Python to  find out Latitudes and Longitudes of all communities in Doha and used **_Foursquare API_** to explore nearby venues for Neighborhoods specially those which are closer to **Ooredoo HQ2**. All unncessary columns were removed and the communities without coordinates were also removed for analysis.\n"
   ]
  },
  {
   "cell_type": "markdown",
   "metadata": {},
   "source": [
    "## Methodology\n",
    "\n",
    "Folium library was used to create a map of all neighborhoods as well as Ooredoo HQ2. It was used to mark closest neighborhoods from Ooredoo HQ2. It was found that Najma, Um Ghawailina and Al Hilal are three closest Neighborhoods.\n",
    "\n",
    "Foursquare API was used to explore upto 100 nearby venues from each Neighborhood within the radius of 1km. Result was normalized and converted to Pandas dataFrame. It resulted in 2400 different venues of 185 different categories.\n",
    "\n",
    "These venues were grouped for each neighborhood by taking the mean of the frequency of occurrence of each category and top venues of each neighborhood were checked. A new dataFrame was created with top 5 venues of each neighborood.\n",
    "\n",
    "KMeans clustering algorithm was used for segmentation. It was used to find out all neighborhoods of Doha which are part of same cluster as **Al Dafna**. Clusters were analyzed by using top 10 venues nearby neighborhood as well as top 5 venues nearby. It was observed that majority of neighborhoods in Doha and all neighborhoods near Ooredoo HQ2 are similar and part of same cluster. It was verified by creating a map using Folium.\n",
    "\n",
    "Similar Analysis was then done on 3 closest neighborhoods to Ooredoo HQ2 and current neighborhood i.e. Al Dafna by using top 20 venues nearby. \n"
   ]
  },
  {
   "cell_type": "markdown",
   "metadata": {},
   "source": [
    "## Results\n",
    "\n",
    "Analysis resulted that the majority of the neighborhoods are similar when they are compared using top venues near each of the neighborhood. It is very difficult to categorize any particular area as very similar or very dissimalar. While Najma and Um Ghawilina are two top neighborhoods to be considered as they are not only in the same cluster as Al Dafna but closer to Ooredoo HQ2 as well. "
   ]
  },
  {
   "cell_type": "markdown",
   "metadata": {},
   "source": [
    "## Discussion\n",
    "\n",
    "Folium Library, Foursquare API and Clustering can be used to segment and visualize neighborhoods of a city like Doha. Analysis shows that Doha is very well planned city and government authorities are very strict about regulations.All neighborhoods have schools, parks, hospitals,\n",
    "shopping areas, cafes and Restaurants etc."
   ]
  },
  {
   "cell_type": "markdown",
   "metadata": {},
   "source": [
    "## Conclusion\n",
    "\n",
    "I can move either to Najma and Um Ghawailina neighborhoods depending upon the availability of apartments/houses. They both have nearby venues I am looking for and are closer to my new office."
   ]
  }
 ],
 "metadata": {
  "kernelspec": {
   "display_name": "Python",
   "language": "python",
   "name": "conda-env-python-py"
  },
  "language_info": {
   "codemirror_mode": {
    "name": "ipython",
    "version": 3
   },
   "file_extension": ".py",
   "mimetype": "text/x-python",
   "name": "python",
   "nbconvert_exporter": "python",
   "pygments_lexer": "ipython3",
   "version": "3.6.7"
  }
 },
 "nbformat": 4,
 "nbformat_minor": 4
}

{
 "cells": [
  {
   "cell_type": "markdown",
   "metadata": {},
   "source": [
    "# Battle of Neighborhoods in Doha, Qatar\n",
    "##### By\n",
    "### Muhammad Jehanzaib Rao\n",
    "##### IN Solution Architect, Ooredoo, Qatar\n",
    "Contact: +974 50715888"
   ]
  },
  {
   "cell_type": "markdown",
   "metadata": {},
   "source": [
    "## Table of Contents\n",
    "\n",
    "<div class=\"alert alert-block alert-info\" style=\"margin-top: 20px\">\n",
    "\n",
    "<font size = 3>\n",
    "\n",
    "1. <a href=\"#item1\">Introduction/Business Problem</a>\n",
    "\n",
    "2. <a href=\"#item2\">Data</a>\n",
    "\n",
    "3. <a href=\"#item3\">Methodology</a>\n",
    "\n",
    "4. <a href=\"#item4\">Results</a>\n",
    "\n",
    "5. <a href=\"#item5\">Discussion</a>    \n",
    "\n",
    "6. <a href=\"#item5\">Conclusion</a>\n",
    "</font>\n",
    "</div>"
   ]
  },
  {
   "cell_type": "markdown",
   "metadata": {},
   "source": [
    "## Introduction/Business Problem\n",
    "\n",
    "Currently, I am living in _Al Dafna_ Area in Doha, Qatar. I had chosen this place because my office(**Ooredoo HQ1**) was very close to my house. There are Cafes, Restaurants, Gym and Park near my house and I am very comfortable as it fits my criterion. \n",
    "\n",
    "Now, my employer has located my department to another office(**Ooredoo HQ2**) which is near _old Doha Air-Port_. There are severe traffic issues in the morning and evening and a lot of my time is being wasted due to traffic jams while going to office or while coming back to home.\n",
    "\n",
    "I want to move closer to my new office but I want my new house to be in similar area as _Al Dafna_. I am comparing neighboroods closer to my new office with _Al Dafna_ and trying to find out which area is more suitable for me."
   ]
  },
  {
   "cell_type": "markdown",
   "metadata": {},
   "source": [
    "## Data section\n",
    "\n",
    "I found a wikipedia link that has details such as Name, Covered Area and Population of almost all Neighborhoods of Doha. Here is the link;\n",
    "\n",
    "[List of Neighborhoods in Doha](https://en.wikipedia.org/wiki/List_of_communities_in_Doha \"List of Neighborhoods in Doha\")\n",
    "\n",
    "I have used **_GeoCoder_** Library of Python to  find out Latitudes and Longitudes of all communities in Doha and used **_Foursquare API_** to explore nearby venues for Neighborhoods specially those which are closer to **Ooredoo HQ2**. \n"
   ]
  },
  {
   "cell_type": "markdown",
   "metadata": {},
   "source": [
    "## Methodology"
   ]
  },
  {
   "cell_type": "markdown",
   "metadata": {},
   "source": [
    "## Results"
   ]
  },
  {
   "cell_type": "markdown",
   "metadata": {},
   "source": [
    "## Discussion"
   ]
  },
  {
   "cell_type": "markdown",
   "metadata": {},
   "source": [
    "## Conclusion"
   ]
  }
 ],
 "metadata": {
  "kernelspec": {
   "display_name": "Python",
   "language": "python",
   "name": "conda-env-python-py"
  },
  "language_info": {
   "codemirror_mode": {
    "name": "ipython",
    "version": 3
   },
   "file_extension": ".py",
   "mimetype": "text/x-python",
   "name": "python",
   "nbconvert_exporter": "python",
   "pygments_lexer": "ipython3",
   "version": "3.6.7"
  }
 },
 "nbformat": 4,
 "nbformat_minor": 4
}
